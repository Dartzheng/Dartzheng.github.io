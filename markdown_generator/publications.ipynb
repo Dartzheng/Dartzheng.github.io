{
 "cells": [
  {
   "cell_type": "markdown",
   "metadata": {
    "deletable": true,
    "editable": true
   },
   "source": [
    "# Publications markdown generator for academicpages\n",
    "\n",
    "Takes a TSV of publications with metadata and converts them for use with [academicpages.github.io](academicpages.github.io). This is an interactive Jupyter notebook ([see more info here](http://jupyter-notebook-beginner-guide.readthedocs.io/en/latest/what_is_jupyter.html)). The core python code is also in `publications.py`. Run either from the `markdown_generator` folder after replacing `publications.tsv` with one containing your data.\n",
    "\n",
    "TODO: Make this work with BibTex and other databases of citations, rather than Stuart's non-standard TSV format and citation style.\n"
   ]
  },
  {
   "cell_type": "markdown",
   "metadata": {},
   "source": [
    "## Data format\n",
    "\n",
    "The TSV needs to have the following columns: pub_date, title, venue, excerpt, citation, site_url, and paper_url, with a header at the top. \n",
    "\n",
    "- `excerpt` and `paper_url` can be blank, but the others must have values. \n",
    "- `pub_date` must be formatted as YYYY-MM-DD.\n",
    "- `url_slug` will be the descriptive part of the .md file and the permalink URL for the page about the paper. The .md file will be `YYYY-MM-DD-[url_slug].md` and the permalink will be `https://[yourdomain]/publications/YYYY-MM-DD-[url_slug]`\n",
    "\n",
    "This is how the raw file looks (it doesn't look pretty, use a spreadsheet or other program to edit and create)."
   ]
  },
  {
   "cell_type": "code",
   "execution_count": 87,
   "metadata": {
    "collapsed": false
   },
   "outputs": [
    {
     "name": "stdout",
     "output_type": "stream",
     "text": [
      "pub_date\ttitle\tvenue\texcerpt\tcitation\turl_slug\tpaper_url\n",
      "2009-10-01\tApplication Design Based on Intelligent Technology of Wholegarment Computerized Flat Knitting Machine\tShanghai Textile Science & Technology\tAs the manufacturing industry continues to transform and upgrade, the knitwear manufacturing sector urgently needs to move away from traditional labor-intensive production models. This text discusses the progress of fully fashioned computerized flat knitting machine technology in the field of intelligent manufacturing and conducts a detailed application study on Shima Seiki's fully fashioned knitting technology. The analysis explores both the hardware structure of the Mach2XS type four-bed fully fashioned computerized flat knitting machine and the design methods and principles of the SDS-ONE design system. The results show that fully fashioned knitting technology has advanced features in products, production models, and conceptual methods, which will have a profound impact on the field of intelligent manufacturing in multiple aspects.\t[1]郑兴昱,袁蓉.基于针织全成形电脑横机智能技术的应用设计[J].上海纺织科技,2019,47(01):1-5.DOI:10.16549/j.cnki.issn.1001-2044.2019.01.001.\thttp://dartzheng.github.io/files/paper1.pdf\n",
      "2010-10-01\tDigital Design Strategies and Process Research on Children's Wearable Wholegarment Knitted Masks\tShanghai Textile Science & Technology\tThe design process of children's fully fashioned knitted masks is elaborated from the aspects of style structure and molding process. The knitting processes for the mask body, ear straps, and the interior of the mask are introduced. The results indicate that the use of fully fashioned knitting technology can achieve one-time molding of children's masks. In the design of the functional layer, a replaceable filter cartridge structure can be utilized to accommodate filters with various functions, which is of great significance for enhancing the comfort of wearing children's masks and reducing resource wastage.\t[1]戴竞宇,郑兴昱,施慧.儿童可穿戴全成形针织口罩数字化设计策略与工艺研究[J].上海纺织科技,2022,50(10):40-43+52.DOI:10.16549/j.cnki.issn.1001-2044.2022.10.029.\thttp://dartzheng.github.io/files/paper2.pdf\n",
      "2024-01-18\tResearch on the Integration of Industry and Education in Talent Cultivation within the Fashion Industry: A Case Study of the Fashion Institute at Shanghai S University, an Applied Undergraduate College\tMaster's Degree Graduate Thesis\tThis is a thesis on the talent cultivation model of industry-education integration in the fashion industry, which discusses the author's exploration and research on the industry-education integration talent cultivation model during their teaching period in the fashion industry. \tOmitted for now\thttp://dartzheng.github.io/files/paper3.pdf\n",
      "2017-10-28\tDesign of Multi-layer Composite Structures on the SVR 123SP Flat Knitting Machine\tKnitting Industries\tExplain the design principles of multi-layer composite structures, based on the SVR 123SP flat knitting machine's weft insertion knitting technology, design and develop three types of multi-layer composite knit fabrics: corrugated weft insertion structures, jacquard weft insertion structures, and imitation shuttle-woven style structures. Provide a detailed introduction to the raw material specifications, structure design, and knitting principles, and highlight the key points in the research and development of multi-layer composite structures as well as their application directions, which has certain guiding significance for enterprises developing such products.\t[1]王建萍,郝赟,郑兴昱.多层复合组织在SVR 123SP横机上的设计[J].针织工业,2017(10):21-24.\thttp://dartzheng.github.io/files/paper4.pdf"
     ]
    }
   ],
   "source": [
    "!cat publications.tsv"
   ]
  },
  {
   "cell_type": "markdown",
   "metadata": {},
   "source": [
    "## Import pandas\n",
    "\n",
    "We are using the very handy pandas library for dataframes."
   ]
  },
  {
   "cell_type": "code",
   "execution_count": 88,
   "metadata": {
    "collapsed": true,
    "deletable": true,
    "editable": true
   },
   "outputs": [],
   "source": [
    "import pandas as pd\n",
    "\n"
   ]
  },
  {
   "cell_type": "markdown",
   "metadata": {},
   "source": [
    "## Import TSV\n",
    "\n",
    "Pandas makes this easy with the read_csv function. We are using a TSV, so we specify the separator as a tab, or `\\t`.\n",
    "\n",
    "I found it important to put this data in a tab-separated values format, because there are a lot of commas in this kind of data and comma-separated values can get messed up. However, you can modify the import statement, as pandas also has read_excel(), read_json(), and others."
   ]
  },
  {
   "cell_type": "code",
   "execution_count": 89,
   "metadata": {
    "collapsed": false,
    "deletable": true,
    "editable": true
   },
   "outputs": [],
   "source": [
    "publications = pd.read_csv(\"publications.tsv\", sep=\"\\t\", header=0)\n",
    "publications\n",
    "import pandas as pd  # 导入Pandas库并定义别名为pd\n",
    "publications = pd.read_csv(\"publications.tsv\", sep=\"\\t\", header=0)  # 使用pd读取TSV文件\n"
   ]
  },
  {
   "cell_type": "markdown",
   "metadata": {},
   "source": []
  },
  {
   "cell_type": "markdown",
   "metadata": {},
   "source": []
  },
  {
   "cell_type": "markdown",
   "metadata": {},
   "source": [
    "## Escape special characters\n",
    "\n",
    "YAML is very picky about how it takes a valid string, so we are replacing single and double quotes (and ampersands) with their HTML encoded equivilents. This makes them look not so readable in raw format, but they are parsed and rendered nicely."
   ]
  },
  {
   "cell_type": "code",
   "execution_count": 90,
   "metadata": {
    "collapsed": true,
    "deletable": true,
    "editable": true
   },
   "outputs": [],
   "source": [
    "html_escape_table = {\n",
    "    \"&\": \"&amp;\",\n",
    "    '\"': \"&quot;\",\n",
    "    \"'\": \"&apos;\"\n",
    "    }\n",
    "\n",
    "def html_escape(text):\n",
    "    \"\"\"Produce entities within text.\"\"\"\n",
    "    return \"\".join(html_escape_table.get(c,c) for c in text)"
   ]
  },
  {
   "cell_type": "markdown",
   "metadata": {},
   "source": [
    "## Creating the markdown files\n",
    "\n",
    "This is where the heavy lifting is done. This loops through all the rows in the TSV dataframe, then starts to concatentate a big string (```md```) that contains the markdown for each type. It does the YAML metadata first, then does the description for the individual page."
   ]
  },
  {
   "cell_type": "code",
   "execution_count": 91,
   "metadata": {
    "collapsed": false,
    "deletable": true,
    "editable": true
   },
   "outputs": [],
   "source": [
    "import os\n",
    "for row, item in publications.iterrows():\n",
    "    \n",
    "    md_filename = str(item.pub_date) + \"-\" + item.url_slug + \".md\"\n",
    "    html_filename = str(item.pub_date) + \"-\" + item.url_slug\n",
    "    year = item.pub_date[:4]\n",
    "    \n",
    "    ## YAML variables\n",
    "    \n",
    "    md = \"---\\ntitle: \\\"\"   + item.title + '\"\\n'\n",
    "    \n",
    "    md += \"\"\"collection: publications\"\"\"\n",
    "    \n",
    "    md += \"\"\"\\npermalink: /publication/\"\"\" + html_filename\n",
    "    \n",
    "    if len(str(item.excerpt)) > 5:\n",
    "        md += \"\\nexcerpt: '\" + html_escape(item.excerpt) + \"'\"\n",
    "    \n",
    "    md += \"\\ndate: \" + str(item.pub_date) \n",
    "    \n",
    "    md += \"\\nvenue: '\" + html_escape(item.venue) + \"'\"\n",
    "    \n",
    "    if len(str(item.paper_url)) > 5:\n",
    "        md += \"\\npaperurl: '\" + item.paper_url + \"'\"\n",
    "    \n",
    "    md += \"\\ncitation: '\" + html_escape(item.citation) + \"'\"\n",
    "    \n",
    "    md += \"\\n---\"\n",
    "    \n",
    "    ## Markdown description for individual page\n",
    "        \n",
    "    if len(str(item.excerpt)) > 5:\n",
    "        md += \"\\n\" + html_escape(item.excerpt) + \"\\n\"\n",
    "    \n",
    "    if len(str(item.paper_url)) > 5:\n",
    "        md += \"\\n[Download paper here](\" + item.paper_url + \")\\n\" \n",
    "        \n",
    "    md += \"\\nRecommended citation: \" + item.citation\n",
    "    \n",
    "    md_filename = os.path.basename(md_filename)\n",
    "       \n",
    "    with open(\"../_publications/\" + md_filename, 'w') as f:\n",
    "        f.write(md)"
   ]
  },
  {
   "cell_type": "markdown",
   "metadata": {},
   "source": [
    "These files are in the publications directory, one directory below where we're working from."
   ]
  },
  {
   "cell_type": "code",
   "execution_count": 96,
   "metadata": {
    "collapsed": false,
    "deletable": true,
    "editable": true
   },
   "outputs": [
    {
     "name": "stdout",
     "output_type": "stream",
     "text": [
      "../_publications/paper1.pdf.md\n"
     ]
    }
   ],
   "source": [
    "!ls ../_publications/paper1.pdf.md"
   ]
  },
  {
   "cell_type": "code",
   "execution_count": 99,
   "metadata": {
    "collapsed": false,
    "deletable": true,
    "editable": true
   },
   "outputs": [
    {
     "name": "stdout",
     "output_type": "stream",
     "text": [
      "---\n",
      "title: \"Application Design Based on Intelligent Technology of Wholegarment Computerized Flat Knitting Machine\"\n",
      "collection: publications\n",
      "permalink: /publication/2009-10-01-http://dartzheng.github.io/files/paper1.pdf\n",
      "excerpt: 'As the manufacturing industry continues to transform and upgrade, the knitwear manufacturing sector urgently needs to move away from traditional labor-intensive production models. This text discusses the progress of fully fashioned computerized flat knitting machine technology in the field of intelligent manufacturing and conducts a detailed application study on Shima Seiki&apos;s fully fashioned knitting technology. The analysis explores both the hardware structure of the Mach2XS type four-bed fully fashioned computerized flat knitting machine and the design methods and principles of the SDS-ONE design system. The results show that fully fashioned knitting technology has advanced features in products, production models, and conceptual methods, which will have a profound impact on the field of intelligent manufacturing in multiple aspects.'\n",
      "date: 2019-01-18\n",
      "venue: 'Shanghai Textile Science &amp; Technology'\n",
      "citation: '[1]郑兴昱,袁蓉.基于针织全成形电脑横机智能技术的应用设计[J].上海纺织科技,2019,47(01):1-5.DOI:10.16549/j.cnki.issn.1001-2044.2019.01.001.'\n",
      "---\n",
      "As the manufacturing industry continues to transform and upgrade, the knitwear manufacturing sector urgently needs to move away from traditional labor-intensive production models. This text discusses the progress of fully fashioned computerized flat knitting machine technology in the field of intelligent manufacturing and conducts a detailed application study on Shima Seiki&apos;s fully fashioned knitting technology. The analysis explores both the hardware structure of the Mach2XS type four-bed fully fashioned computerized flat knitting machine and the design methods and principles of the SDS-ONE design system. The results show that fully fashioned knitting technology has advanced features in products, production models, and conceptual methods, which will have a profound impact on the field of intelligent manufacturing in multiple aspects.\n",
      "\n",
      "Recommended citation: [1]郑兴昱,袁蓉.基于针织全成形电脑横机智能技术的应用设计[J].上海纺织科技,2019,47(01):1-5.DOI:10.16549/j.cnki.issn.1001-2044.2019.01.001."
     ]
    }
   ],
   "source": [
    "!cat ../_publications/paper1.pdf.md"
   ]
  },
  {
   "cell_type": "code",
   "execution_count": 94,
   "metadata": {
    "collapsed": true,
    "deletable": true,
    "editable": true
   },
   "outputs": [
    {
     "name": "stdout",
     "output_type": "stream",
     "text": [
      "cat: ../_publications/2024-01-18-paper-title-number-3.md: No such file or directory\n"
     ]
    }
   ],
   "source": [
    "!cat ../_publications/2024-01-18-paper-title-number-3.md"
   ]
  },
  {
   "cell_type": "code",
   "execution_count": 95,
   "metadata": {},
   "outputs": [
    {
     "name": "stdout",
     "output_type": "stream",
     "text": [
      "cat: ../_publications/2010-10-01-paper-title-number-2.md: No such file or directory\n"
     ]
    }
   ],
   "source": [
    "!cat ../_publications/2010-10-01-paper-title-number-2.md"
   ]
  }
 ],
 "metadata": {
  "kernelspec": {
   "display_name": "Python 3",
   "language": "python",
   "name": "python3"
  },
  "language_info": {
   "codemirror_mode": {
    "name": "ipython",
    "version": 3
   },
   "file_extension": ".py",
   "mimetype": "text/x-python",
   "name": "python",
   "nbconvert_exporter": "python",
   "pygments_lexer": "ipython3",
   "version": "3.9.6"
  }
 },
 "nbformat": 4,
 "nbformat_minor": 0
}
